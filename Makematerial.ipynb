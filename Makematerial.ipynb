{
 "cells": [
  {
   "cell_type": "code",
   "execution_count": null,
   "id": "803cce50-ec8c-43ea-8534-82c403d420de",
   "metadata": {},
   "outputs": [],
   "source": [
    "import damask\n",
    "import numpy as np\n",
    "#Импорт ориентаций из файла\n",
    "ori = np.loadtxt('orient.txt') \n",
    "#Запись ориентаций из файла в переменную конфигурации\n",
    "config = damask.ConfigMaterial().material_add(O=damask.Rotation.from_quaternion(ori, accept_homomorph=True),phase='alpha',homogenization='SX') \n",
    "print(f'configuration is{\" \" if config.is_valid else \" not \"}valid\\n')"
   ]
  },
  {
   "cell_type": "code",
   "execution_count": null,
   "id": "65bcbe18-c316-4e00-92cc-0a216c0243a6",
   "metadata": {},
   "outputs": [],
   "source": [
    "#Запись параметров материала в переменную конфигурации\n",
    "config['phase']['alpha'] = damask.ConfigMaterial.load('Ti.yaml')"
   ]
  },
  {
   "cell_type": "code",
   "execution_count": null,
   "id": "2183ff76-4c4e-461a-aa07-7755b8294c5f",
   "metadata": {},
   "outputs": [],
   "source": [
    "#Ввыод на экран\n",
    "config"
   ]
  },
  {
   "cell_type": "code",
   "execution_count": null,
   "id": "5529145d-82d9-46fc-9a7c-57244a0e1aa1",
   "metadata": {},
   "outputs": [],
   "source": [
    "config['homogenization']['SX'] = {'N_constituents':1,'mechanical':{'type':'pass'}}\n",
    "config.save()"
   ]
  },
  {
   "cell_type": "code",
   "execution_count": null,
   "id": "041ccf6e-cb3b-4dd8-b742-9436c2395ab2",
   "metadata": {},
   "outputs": [],
   "source": [
    "len(config['material'])"
   ]
  },
  {
   "cell_type": "code",
   "execution_count": null,
   "id": "ab06456d-8e82-4201-aaef-4f4159fe871e",
   "metadata": {},
   "outputs": [],
   "source": []
  }
 ],
 "metadata": {
  "kernelspec": {
   "display_name": "Python 3 (ipykernel)",
   "language": "python",
   "name": "python3"
  },
  "language_info": {
   "codemirror_mode": {
    "name": "ipython",
    "version": 3
   },
   "file_extension": ".py",
   "mimetype": "text/x-python",
   "name": "python",
   "nbconvert_exporter": "python",
   "pygments_lexer": "ipython3",
   "version": "3.10.12"
  }
 },
 "nbformat": 4,
 "nbformat_minor": 5
}
