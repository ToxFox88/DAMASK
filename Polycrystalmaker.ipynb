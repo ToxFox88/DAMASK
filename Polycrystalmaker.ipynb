{
 "cells": [
  {
   "cell_type": "code",
   "execution_count": 3,
   "id": "f8bf4da7-f569-4484-9b71-3ee985b64f6c",
   "metadata": {},
   "outputs": [],
   "source": [
    "import damask\n",
    "import numpy as np"
   ]
  },
  {
   "cell_type": "code",
   "execution_count": 4,
   "id": "d900c061-4ef8-4ab8-913a-9bfc749375f3",
   "metadata": {},
   "outputs": [],
   "source": [
    "size = np.ones(3)*1.0e-3\n",
    "cells = [3,3,3]\n",
    "N_grains = 27"
   ]
  },
  {
   "cell_type": "code",
   "execution_count": 5,
   "id": "e489ebee-f054-4f5e-97da-5d9fbf7b4d92",
   "metadata": {},
   "outputs": [
    {
     "data": {
      "text/plain": [
       "cells:  3 × 3 × 3\n",
       "size:   0.001 × 0.001 × 0.001 m³\n",
       "origin: 0.0   0.0   0.0 m\n",
       "# materials: 27"
      ]
     },
     "execution_count": 5,
     "metadata": {},
     "output_type": "execute_result"
    }
   ],
   "source": [
    "seeds = damask.seeds.from_random(size,N_grains,cells)\n",
    "grid = damask.Grid.from_Voronoi_tessellation(cells,size,seeds)\n",
    "grid.save(f'Polycystal_{N_grains}_{cells[0]}x{cells[1]}x{cells[2]}')\n",
    "grid"
   ]
  },
  {
   "cell_type": "code",
   "execution_count": null,
   "id": "ee5b5fe3-e9ba-41d9-a554-686d5890e8ca",
   "metadata": {},
   "outputs": [],
   "source": []
  },
  {
   "cell_type": "code",
   "execution_count": 5,
   "id": "8f4f9833-77df-4972-a1f1-3e7c73199792",
   "metadata": {},
   "outputs": [
    {
     "data": {
      "text/plain": [
       "cells:  128 × 128 × 128\n",
       "size:   1.0 × 1.0 × 1.0 m³\n",
       "origin: 0.0   0.0   0.0 m\n",
       "# materials: 29"
      ]
     },
     "execution_count": 5,
     "metadata": {},
     "output_type": "execute_result"
    }
   ],
   "source": []
  },
  {
   "cell_type": "code",
   "execution_count": null,
   "id": "9c9c2ede-6a00-4438-ad47-0219761c7b6a",
   "metadata": {},
   "outputs": [],
   "source": []
  }
 ],
 "metadata": {
  "kernelspec": {
   "display_name": "Python 3 (ipykernel)",
   "language": "python",
   "name": "python3"
  },
  "language_info": {
   "codemirror_mode": {
    "name": "ipython",
    "version": 3
   },
   "file_extension": ".py",
   "mimetype": "text/x-python",
   "name": "python",
   "nbconvert_exporter": "python",
   "pygments_lexer": "ipython3",
   "version": "3.10.12"
  }
 },
 "nbformat": 4,
 "nbformat_minor": 5
}
