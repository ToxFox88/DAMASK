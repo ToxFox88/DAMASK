{
 "cells": [
  {
   "cell_type": "code",
   "execution_count": 8,
   "id": "be534b82-92af-4da2-93b8-4c13dec0a790",
   "metadata": {},
   "outputs": [],
   "source": [
    "import damask"
   ]
  },
  {
   "cell_type": "code",
   "execution_count": 9,
   "id": "01f36ad4-20f5-4957-8d39-54141b11fc54",
   "metadata": {},
   "outputs": [],
   "source": [
    "r = damask.Result('geom_load.hdf5')"
   ]
  },
  {
   "cell_type": "code",
   "execution_count": 10,
   "id": "d1e163b1-47f1-4627-bcc4-c866fb396f03",
   "metadata": {},
   "outputs": [
    {
     "name": "stderr",
     "output_type": "stream",
     "text": [
      " ██████████████████████████████████████████████████ 100% ETA 0:00:00\n"
     ]
    }
   ],
   "source": [
    "r.add_IPF_color([1,0,0])"
   ]
  },
  {
   "cell_type": "code",
   "execution_count": 11,
   "id": "5134b661-0579-4a78-a6eb-bfb3c0f068bd",
   "metadata": {},
   "outputs": [
    {
     "name": "stderr",
     "output_type": "stream",
     "text": [
      " ██████████████████████████████████████████████████ 100% ETA 0:00:00\n"
     ]
    }
   ],
   "source": [
    "r.add_strain()"
   ]
  },
  {
   "cell_type": "code",
   "execution_count": 12,
   "id": "81204d73-6c6a-4526-9eae-60609edfa781",
   "metadata": {},
   "outputs": [
    {
     "name": "stderr",
     "output_type": "stream",
     "text": [
      " ██████████████████████████████████████████████████ 100% ETA 0:00:00\n"
     ]
    }
   ],
   "source": [
    "r.add_stress_Cauchy()"
   ]
  },
  {
   "cell_type": "code",
   "execution_count": 13,
   "id": "7c44aab9-b7dd-47d4-a02c-6190ddfb791c",
   "metadata": {},
   "outputs": [
    {
     "name": "stderr",
     "output_type": "stream",
     "text": [
      " ██████████████████████████████████████████████████ 100% ETA 0:00:00\n"
     ]
    }
   ],
   "source": [
    "r.add_equivalent_Mises('sigma')"
   ]
  },
  {
   "cell_type": "code",
   "execution_count": 14,
   "id": "02624ee2-1069-40bd-b372-a69c31e496db",
   "metadata": {},
   "outputs": [
    {
     "name": "stderr",
     "output_type": "stream",
     "text": [
      " ██████████████████████████████████████████████████ 100% ETA 0:00:00\n"
     ]
    }
   ],
   "source": [
    "r.export_VTK()"
   ]
  },
  {
   "cell_type": "code",
   "execution_count": null,
   "id": "ab205d10-79e9-41a9-ac46-14fb6e0408ae",
   "metadata": {},
   "outputs": [],
   "source": [
    "#r_last = r.view(increments=-1)"
   ]
  },
  {
   "cell_type": "code",
   "execution_count": null,
   "id": "b72fd8d7-37c2-4a52-9900-7cf2efdd4112",
   "metadata": {},
   "outputs": [],
   "source": [
    "#sigma_vM_last = r_last.get('sigma_vM')"
   ]
  },
  {
   "cell_type": "code",
   "execution_count": null,
   "id": "9403a324-dbea-4c41-9bfe-f549fadf67d9",
   "metadata": {},
   "outputs": [],
   "source": []
  }
 ],
 "metadata": {
  "kernelspec": {
   "display_name": "Python 3 (ipykernel)",
   "language": "python",
   "name": "python3"
  },
  "language_info": {
   "codemirror_mode": {
    "name": "ipython",
    "version": 3
   },
   "file_extension": ".py",
   "mimetype": "text/x-python",
   "name": "python",
   "nbconvert_exporter": "python",
   "pygments_lexer": "ipython3",
   "version": "3.10.12"
  }
 },
 "nbformat": 4,
 "nbformat_minor": 5
}
