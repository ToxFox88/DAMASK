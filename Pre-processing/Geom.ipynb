# Конвертация файла геометрии из Neper в понятный для DAMASK`а вид.
import damask
import numpy as np
g = damask.Grid.load_Neper(f'geom.vtk')
g.save(f'geom.vti')
g
