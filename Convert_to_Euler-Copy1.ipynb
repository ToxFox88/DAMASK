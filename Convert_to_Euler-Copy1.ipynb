{
 "cells": [
  {
   "cell_type": "code",
   "execution_count": 7,
   "id": "d990411a-6e8a-47e5-8042-0d4502933614",
   "metadata": {},
   "outputs": [],
   "source": [
    "import damask\n",
    "import math\n",
    "import numpy as np\n",
    "from scipy.spatial.transform import Rotation as R"
   ]
  },
  {
   "cell_type": "code",
   "execution_count": 8,
   "id": "ea074e90-35d0-4d25-b4ea-d410f2136b64",
   "metadata": {},
   "outputs": [],
   "source": [
    "res = damask.Result('geom_load.hdf5')"
   ]
  },
  {
   "cell_type": "code",
   "execution_count": 9,
   "id": "a4758eee-de57-43bc-abd9-5a4d72e33b0c",
   "metadata": {},
   "outputs": [],
   "source": [
    "i = 100\n",
    "for i in range (0, 101, 2): #Цикл для перебора всех рассчитаных шагов деформации\n",
    "    Oq = res.view(increments=i,phases='Cu').get('O') #Выгрузка набора ориентаций для конкретного шага деформации\n",
    "    Oq = np.array(Oq) #Преобразование набора ориентаций в массив\n",
    "    s = i\n",
    "    np.savetxt('Cueuler_'+str(s)+'.txt', Oq) #Запись каджого набора ориентаций в отдельный файл "
   ]
  },
  {
   "cell_type": "code",
   "execution_count": 10,
   "id": "b4161d47-0a79-4311-9348-624a5b008d65",
   "metadata": {},
   "outputs": [],
   "source": [
    "np.savetxt('orientCu.txt',Oq) #Запись набора ориентаций для конечной деформации"
   ]
  },
  {
   "cell_type": "code",
   "execution_count": 11,
   "id": "b04a66d3-ec75-4995-858d-d3151a313162",
   "metadata": {},
   "outputs": [],
   "source": [
    "i = 100\n",
    "for i in range (0, 101, 2): #Цикл для перебора всех рассчитаных шагов деформации\n",
    "    Oq = res.view(increments=i,phases='Nb').get('O') #Выгрузка набора ориентаций для конкретного шага деформации\n",
    "    Oq = np.array(Oq) #Преобразование набора ориентаций в массив\n",
    "    s = i\n",
    "    np.savetxt('Nbeuler_'+str(s)+'.txt', Oq) #Запись каджого набора ориентаций в отдельный файл "
   ]
  },
  {
   "cell_type": "code",
   "execution_count": 12,
   "id": "63733c5e-3524-418c-befc-08a8d0c7964c",
   "metadata": {},
   "outputs": [],
   "source": [
    "np.savetxt('orientNb.txt',Oq) #Запись набора ориентаций для конечной деформации"
   ]
  },
  {
   "cell_type": "code",
   "execution_count": null,
   "id": "e75afa7a-5250-4ee1-aaea-5821a5f302c2",
   "metadata": {},
   "outputs": [],
   "source": []
  }
 ],
 "metadata": {
  "kernelspec": {
   "display_name": "Python 3 (ipykernel)",
   "language": "python",
   "name": "python3"
  },
  "language_info": {
   "codemirror_mode": {
    "name": "ipython",
    "version": 3
   },
   "file_extension": ".py",
   "mimetype": "text/x-python",
   "name": "python",
   "nbconvert_exporter": "python",
   "pygments_lexer": "ipython3",
   "version": "3.10.12"
  }
 },
 "nbformat": 4,
 "nbformat_minor": 5
}
