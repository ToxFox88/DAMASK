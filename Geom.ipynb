{
 "cells": [
  {
   "cell_type": "code",
   "execution_count": 15,
   "id": "fc0fc91e-daf6-4c7a-9c43-d1cb5092e7a3",
   "metadata": {},
   "outputs": [],
   "source": [
    "import damask\n",
    "import numpy as np"
   ]
  },
  {
   "cell_type": "code",
   "execution_count": 17,
   "id": "643ea95e-0351-4c97-936b-40927e9dc9e8",
   "metadata": {},
   "outputs": [
    {
     "name": "stderr",
     "output_type": "stream",
     "text": [
      "\u001b[0m\u001b[31m2024-01-17 15:09:39.129 (6937.263s) [    7FE3B8EBB000]      vtkDataReader.cxx:2237   ERR| vtkStructuredPointsReader (0x55efa0449460): Cannot read scalar header! for file: geom.vtk\u001b[0m\n"
     ]
    },
    {
     "ename": "KeyError",
     "evalue": "'array \"MaterialId\" not found'",
     "output_type": "error",
     "traceback": [
      "\u001b[0;31m---------------------------------------------------------------------------\u001b[0m",
      "\u001b[0;31mUnboundLocalError\u001b[0m                         Traceback (most recent call last)",
      "File \u001b[0;32m~/jupyter/jupyter/lib/python3.10/site-packages/damask/_vtk.py:593\u001b[0m, in \u001b[0;36mVTK.get\u001b[0;34m(self, label)\u001b[0m\n\u001b[1;32m    591\u001b[0m \u001b[38;5;28;01mtry\u001b[39;00m:\n\u001b[1;32m    592\u001b[0m     \u001b[38;5;66;03m# string array\u001b[39;00m\n\u001b[0;32m--> 593\u001b[0m     \u001b[38;5;28;01mreturn\u001b[39;00m np\u001b[38;5;241m.\u001b[39marray([vtk_array\u001b[38;5;241m.\u001b[39mGetValue(i) \u001b[38;5;28;01mfor\u001b[39;00m i \u001b[38;5;129;01min\u001b[39;00m \u001b[38;5;28mrange\u001b[39m(\u001b[43mvtk_array\u001b[49m\u001b[38;5;241m.\u001b[39mGetNumberOfValues())])\u001b[38;5;241m.\u001b[39mastype(\u001b[38;5;28mstr\u001b[39m)\n\u001b[1;32m    594\u001b[0m \u001b[38;5;28;01mexcept\u001b[39;00m \u001b[38;5;167;01mUnboundLocalError\u001b[39;00m:\n",
      "\u001b[0;31mUnboundLocalError\u001b[0m: local variable 'vtk_array' referenced before assignment",
      "\nDuring handling of the above exception, another exception occurred:\n",
      "\u001b[0;31mKeyError\u001b[0m                                  Traceback (most recent call last)",
      "Cell \u001b[0;32mIn[17], line 1\u001b[0m\n\u001b[0;32m----> 1\u001b[0m g \u001b[38;5;241m=\u001b[39m \u001b[43mdamask\u001b[49m\u001b[38;5;241;43m.\u001b[39;49m\u001b[43mGrid\u001b[49m\u001b[38;5;241;43m.\u001b[39;49m\u001b[43mload_Neper\u001b[49m\u001b[43m(\u001b[49m\u001b[38;5;124;43mf\u001b[39;49m\u001b[38;5;124;43m'\u001b[39;49m\u001b[38;5;124;43mgeom.vtk\u001b[39;49m\u001b[38;5;124;43m'\u001b[39;49m\u001b[43m)\u001b[49m\n\u001b[1;32m      2\u001b[0m g\u001b[38;5;241m.\u001b[39msave(\u001b[38;5;124mf\u001b[39m\u001b[38;5;124m'\u001b[39m\u001b[38;5;124mgeom.vti\u001b[39m\u001b[38;5;124m'\u001b[39m)\n\u001b[1;32m      3\u001b[0m g\n",
      "File \u001b[0;32m~/jupyter/jupyter/lib/python3.10/site-packages/damask/_grid.py:358\u001b[0m, in \u001b[0;36mGrid.load_Neper\u001b[0;34m(fname)\u001b[0m\n\u001b[1;32m    355\u001b[0m cells \u001b[38;5;241m=\u001b[39m np\u001b[38;5;241m.\u001b[39marray(v\u001b[38;5;241m.\u001b[39mvtk_data\u001b[38;5;241m.\u001b[39mGetDimensions())\u001b[38;5;241m-\u001b[39m\u001b[38;5;241m1\u001b[39m\n\u001b[1;32m    356\u001b[0m bbox  \u001b[38;5;241m=\u001b[39m np\u001b[38;5;241m.\u001b[39marray(v\u001b[38;5;241m.\u001b[39mvtk_data\u001b[38;5;241m.\u001b[39mGetBounds())\u001b[38;5;241m.\u001b[39mreshape(\u001b[38;5;241m3\u001b[39m,\u001b[38;5;241m2\u001b[39m)\u001b[38;5;241m.\u001b[39mT\n\u001b[0;32m--> 358\u001b[0m \u001b[38;5;28;01mreturn\u001b[39;00m Grid(material \u001b[38;5;241m=\u001b[39m \u001b[43mv\u001b[49m\u001b[38;5;241;43m.\u001b[39;49m\u001b[43mget\u001b[49m\u001b[43m(\u001b[49m\u001b[38;5;124;43m'\u001b[39;49m\u001b[38;5;124;43mMaterialId\u001b[39;49m\u001b[38;5;124;43m'\u001b[39;49m\u001b[43m)\u001b[49m\u001b[38;5;241m.\u001b[39mreshape(cells,order\u001b[38;5;241m=\u001b[39m\u001b[38;5;124m'\u001b[39m\u001b[38;5;124mF\u001b[39m\u001b[38;5;124m'\u001b[39m)\u001b[38;5;241m.\u001b[39mastype(\u001b[38;5;124m'\u001b[39m\u001b[38;5;124mint32\u001b[39m\u001b[38;5;124m'\u001b[39m,casting\u001b[38;5;241m=\u001b[39m\u001b[38;5;124m'\u001b[39m\u001b[38;5;124munsafe\u001b[39m\u001b[38;5;124m'\u001b[39m),\n\u001b[1;32m    359\u001b[0m             size     \u001b[38;5;241m=\u001b[39m bbox[\u001b[38;5;241m1\u001b[39m] \u001b[38;5;241m-\u001b[39m bbox[\u001b[38;5;241m0\u001b[39m],\n\u001b[1;32m    360\u001b[0m             origin   \u001b[38;5;241m=\u001b[39m bbox[\u001b[38;5;241m0\u001b[39m],\n\u001b[1;32m    361\u001b[0m             comments \u001b[38;5;241m=\u001b[39m util\u001b[38;5;241m.\u001b[39mexecution_stamp(\u001b[38;5;124m'\u001b[39m\u001b[38;5;124mGrid\u001b[39m\u001b[38;5;124m'\u001b[39m,\u001b[38;5;124m'\u001b[39m\u001b[38;5;124mload_Neper\u001b[39m\u001b[38;5;124m'\u001b[39m),\n\u001b[1;32m    362\u001b[0m            )\n",
      "File \u001b[0;32m~/jupyter/jupyter/lib/python3.10/site-packages/damask/_vtk.py:595\u001b[0m, in \u001b[0;36mVTK.get\u001b[0;34m(self, label)\u001b[0m\n\u001b[1;32m    593\u001b[0m     \u001b[38;5;28;01mreturn\u001b[39;00m np\u001b[38;5;241m.\u001b[39marray([vtk_array\u001b[38;5;241m.\u001b[39mGetValue(i) \u001b[38;5;28;01mfor\u001b[39;00m i \u001b[38;5;129;01min\u001b[39;00m \u001b[38;5;28mrange\u001b[39m(vtk_array\u001b[38;5;241m.\u001b[39mGetNumberOfValues())])\u001b[38;5;241m.\u001b[39mastype(\u001b[38;5;28mstr\u001b[39m)\n\u001b[1;32m    594\u001b[0m \u001b[38;5;28;01mexcept\u001b[39;00m \u001b[38;5;167;01mUnboundLocalError\u001b[39;00m:\n\u001b[0;32m--> 595\u001b[0m     \u001b[38;5;28;01mraise\u001b[39;00m \u001b[38;5;167;01mKeyError\u001b[39;00m(\u001b[38;5;124mf\u001b[39m\u001b[38;5;124m'\u001b[39m\u001b[38;5;124marray \u001b[39m\u001b[38;5;124m\"\u001b[39m\u001b[38;5;132;01m{\u001b[39;00mlabel\u001b[38;5;132;01m}\u001b[39;00m\u001b[38;5;124m\"\u001b[39m\u001b[38;5;124m not found\u001b[39m\u001b[38;5;124m'\u001b[39m)\n",
      "\u001b[0;31mKeyError\u001b[0m: 'array \"MaterialId\" not found'"
     ]
    }
   ],
   "source": [
    "g = damask.Grid.load_Neper(f'geom.vtk')\n",
    "g.save(f'geom.vti')\n",
    "g"
   ]
  },
  {
   "cell_type": "code",
   "execution_count": null,
   "id": "f0faff00-f850-4619-aa9e-edf32056d314",
   "metadata": {},
   "outputs": [],
   "source": []
  },
  {
   "cell_type": "code",
   "execution_count": null,
   "id": "922c90d0-b026-4e36-96b6-13d333853c81",
   "metadata": {},
   "outputs": [],
   "source": []
  }
 ],
 "metadata": {
  "kernelspec": {
   "display_name": "Python 3 (ipykernel)",
   "language": "python",
   "name": "python3"
  },
  "language_info": {
   "codemirror_mode": {
    "name": "ipython",
    "version": 3
   },
   "file_extension": ".py",
   "mimetype": "text/x-python",
   "name": "python",
   "nbconvert_exporter": "python",
   "pygments_lexer": "ipython3",
   "version": "3.10.12"
  }
 },
 "nbformat": 4,
 "nbformat_minor": 5
}
